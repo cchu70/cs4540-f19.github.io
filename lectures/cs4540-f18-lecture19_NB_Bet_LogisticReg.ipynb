{
 "cells": [
  {
   "cell_type": "markdown",
   "metadata": {},
   "source": [
    "$\\LaTeX \\text{ commands here}\n",
    "\\newcommand{\\R}{\\mathbb{R}}\n",
    "\\newcommand{\\im}{\\text{im}\\,}\n",
    "\\newcommand{\\norm}[1]{||#1||}\n",
    "\\newcommand{\\inner}[1]{\\langle #1 \\rangle}\n",
    "\\newcommand{\\span}{\\mathrm{span}}\n",
    "\\newcommand{\\proj}{\\mathrm{proj}}\n",
    "\\newcommand{\\OPT}{\\mathrm{OPT}}\n",
    "\\newcommand{\\vx}{\\vec{x}}\n",
    "\\newcommand{\\I}{\\mathbb{I}}\n",
    "$"
   ]
  },
  {
   "cell_type": "markdown",
   "metadata": {
    "slideshow": {
     "slide_type": "slide"
    }
   },
   "source": [
    "\n",
    "<hr style=\"border: 5px solid black\">\n",
    "\n",
    "**Georgia Tech, CS 4540**\n",
    "\n",
    "# Lecture 19: Logistic Regression\n",
    "\n",
    "Naveen Kodali and Jacob Abernethy\n",
    "*Date:  Tuesday, November 6, 2018*"
   ]
  },
  {
   "cell_type": "markdown",
   "metadata": {
    "slideshow": {
     "slide_type": "slide"
    }
   },
   "source": [
    "### Naive Bayes:  Problem\n",
    "\n",
    "- We will use **Naive Bayes** to solve the following classification problem:\n",
    "    - **Categorical** feature vector $\\vx = (x_1, x_2, \\dots, x_D)$ with length $D$\n",
    "        - Each feature $x_d \\in \\{0,1\\}$, $\\forall d = 1, \\dots, D$\n",
    "        - Note: you can allow for non-binary features - $x_d \\in \\{0,1, \\ldots M\\}$\n",
    "    - Predict discrete class label $y \\in \\{1, 2, \\dots, C \\}$\n",
    "\n",
    "- For example, in **Spam Mail Classification**,\n",
    "    - Predict whether an email is `SPAM` ($y=1$) or `HAM` ($y=0$)\n",
    "    - Use words / metadata in the email as features\n",
    "    - For simplicity, we can use **bag-of-words** features,\n",
    "        - Assume fixed vocabulary $V$ of size $|V| = D$\n",
    "        - Feature $x_d$, for $d \\in \\{1, 2, \\dots, D \\}$, indicates the existence of $d\\text{th}$ word in the email\n",
    "        - Eg. $x_d = 1$ if $d\\text{th}$ word is in the email; $x_d = 0$ otherwise\n",
    "        - In this case $M=2$"
   ]
  },
  {
   "cell_type": "markdown",
   "metadata": {
    "slideshow": {
     "slide_type": "slide"
    }
   },
   "source": [
    "### Naive Bayes:  Independence Assumption and Full model\n",
    "\n",
    "- The essence of Naive Bayes is the **conditionally independence assumption**\n",
    "    $$\n",
    "    P(\\vx | y = c) = \\prod_{d=1}^D P(x_d | y=c)\n",
    "    $$\n",
    "    i.e., given the label, all features are independent.\n",
    "    \n",
    "- The **full generative** model of Naive Bayes is:\n",
    "    $$\n",
    "    \\begin{align}\n",
    "    P(y = c ) & = \\pi_c \\quad \\forall\\, c=0,1 \\\\\n",
    "    P(x_d = 1 | y = c ) &= \\theta_{cd} \\quad \\forall\\, d = 1,\\dots,D\n",
    "    \\end{align}\n",
    "    $$\n",
    "- Parameter $\\pi$ and $\\theta$ are learned from training data."
   ]
  },
  {
   "cell_type": "markdown",
   "metadata": {
    "slideshow": {
     "slide_type": "slide"
    }
   },
   "source": [
    "### Naive Bayes: Prediction\n",
    "\n",
    "- Given the independence assumption and full model, for some new data $\\vx^{\\text{new}} = (x_1^{\\text{new}}, \\dots, x_D^{\\text{new}})$ we will classify based on\n",
    "    $$\n",
    "    \\begin{align}\n",
    "    y\n",
    "    &=\\underset{c \\in \\{0,1\\}}{\\arg \\max} P(y=c|\\vx = \\vx^{\\text{new}}) \\\\\n",
    "    &=\\underset{c \\in \\{0,1\\}}{\\arg \\max} P(\\vx = \\vx^{\\text{new}} | y=c) P(y=c) \\\\\n",
    "    &=\\underset{c \\in \\{0,1\\}}{\\arg \\max} P(y=c) \\prod \\nolimits_{d=1}^{D} P(x_d = x_d^{\\text{new}} | y=c) \\\\\n",
    "    &=\\boxed{\\underset{c \\in \\{0,1\\}}{\\arg \\max} \\pi_c \\prod \\nolimits_{d=1}^{D} \\theta_{cd}^{x_d^{\\text{new}}} (1-\\theta_{cd})^{1-x_d^{\\text{new}}}} \\\\\n",
    "    \\end{align}\n",
    "    $$\n",
    "    \n",
    "- So as long as we learned parameter $\\pi$ and $\\theta$, we could classify."
   ]
  },
  {
   "cell_type": "markdown",
   "metadata": {
    "slideshow": {
     "slide_type": "slide"
    }
   },
   "source": [
    "### Naive Bayes:  Maximum Likelihood\n",
    "\n",
    "\n",
    "- We have alread solved the MLE for the multinomial distribution (categorical variable)! We observed that:\n",
    "    $$\n",
    "    \\hat{\\pi}_c = \\frac{N_c}{N} \\quad \\hat{\\theta}_{cd} = \\frac{N_{cd}}{N_c}\n",
    "    $$\n",
    "    where\n",
    "    - $N = $ Number of examples in $\\mathcal{D}$\n",
    "    - $N_c = $ Number of examples in class $c$ in $\\mathcal{D}$\n",
    "    - $N_{cd} = $ Number of examples in class $c$ with $x_d = 1$\n",
    "    \n",
    "- Intuitive Interpretation\n",
    "    - The class prior $\\pi$ is obtained from the density of each class $\\{1, \\dots, C\\}$ in $\\mathcal{D}$\n",
    "    - The class-conditional probability $\\theta_{cd}$ is obtained from the density of $x_d \\in \\{0,1\\}$ among all examples in class $c$"
   ]
  },
  {
   "cell_type": "markdown",
   "metadata": {
    "slideshow": {
     "slide_type": "slide"
    }
   },
   "source": [
    "## Example dataset\n",
    "#### Example No.  |  Color  |  Type  |  Origin  |  Stolen?\n",
    "\n",
    "1 | Red | Sports | Domestic | Yes <br>\n",
    "2 | Red | Sports | Domestic | No <br>\n",
    "3 | Red | Sports | Domestic | Yes <br>\n",
    "4 | Yellow | Sports | Domestic | No <br>\n",
    "5 | Yellow | Sports | Imported | Yes <br>\n",
    "6 | Yellow | SUV | Imported | No <br>\n",
    "7 | Yellow | SUV | Imported | Yes <br>\n",
    "8 | Yellow | SUV | Domestic | No <br>\n",
    "9 | Red | SUV | Imported | No <br>\n",
    "10 | Red | Sports | Imported | Yes \n",
    "\n",
    "### Problem\n",
    "\n",
    "What is MLE of the parameters $\\theta$ and $\\mu$? \n",
    "\n",
    "For these parameters, what is P(Yes | Red Domestic SUV) and (No | Red Domestic SUV)?"
   ]
  },
  {
   "cell_type": "markdown",
   "metadata": {
    "slideshow": {
     "slide_type": "slide"
    }
   },
   "source": [
    "## MAP Estimation for Naive Bayes with Beta Prior\n",
    "\n",
    "In the above example, what if we never see a red car that is stolen (perhaps because we didn't have much data)? What will be $P(\\text{Stolen} | \\text{Red Imported Sports})$? The predicted probability will be 0! This is not desireable, since it would essentially be \"overfitting\" to the data.\n",
    "\n",
    "This is where we want a prior distribution. As we discussed previously, it's best to use a conjugate prior if you can, because the calculations are very convenient. The conjugate distribution to the binomial model is the *beta distribution*, parameterized by $\\alpha, \\beta > 0$:\n",
    "$$P(\\theta | \\alpha, \\beta) := \\frac{\\theta^{\\alpha - 1}(1-\\theta)^{\\beta - 1}}{B(\\alpha, \\beta)}$$\n",
    "where the normalization term $B$ is defined in terms of the [gamma function](https://en.wikipedia.org/wiki/Gamma_function), $B(\\alpha, \\beta) := \\frac{\\Gamma(\\alpha)\\Gamma(\\beta)}{\\Gamma(\\alpha + \\beta)}$. "
   ]
  },
  {
   "cell_type": "markdown",
   "metadata": {
    "slideshow": {
     "slide_type": "slide"
    }
   },
   "source": [
    "### Naive Bayes:  Maximum a Posteriori\n",
    "\n",
    "\n",
    "- We have alread solved the MLE for Naive Bayes:\n",
    "    $$\n",
    "    \\hat{\\pi}_c = \\frac{N_c}{N} \\quad \\hat{\\theta}_{cd} = \\frac{N_{cd}}{N_c}\n",
    "    $$\n",
    "    where $N = $ #examples in the dataset, $N_c = $ #examples in class $c$ in dataset, $N_{cd} = $ #examples in class $c$ with $x_d = 1$\n",
    "    \n",
    "*Problem*: What is the MAP estimate of the parameters $\\theta_{cd}$ for this model, when we assume the prior on every $\\theta_{cd}$ is (independently) distributed according to $\\text{Beta}(\\alpha,\\beta)$?\n",
    "    \n"
   ]
  },
  {
   "cell_type": "markdown",
   "metadata": {
    "slideshow": {
     "slide_type": "slide"
    }
   },
   "source": [
    "#### Answer\n",
    "\n",
    "You get the \"smoothed\" version of the counts:\n",
    "    $$\n",
    "     \\hat{\\theta}_{cd}^{\\text{MAP}(\\alpha,\\beta)} = \\frac{N_{cd} + \\alpha}{N_c + \\alpha + \\beta}\n",
    "    $$"
   ]
  },
  {
   "cell_type": "markdown",
   "metadata": {
    "slideshow": {
     "slide_type": "slide"
    }
   },
   "source": [
    "## Binary is to Categorical as Beta is to Dirichlet\n",
    "\n",
    "We want to recall that the binomial model is a distribution on (counts of) *binary* variables. In the example above, all of the features $x_d$ took one of two values, and the class label YES/NO was also binary. In this case, you only need $\\theta_{cd}$ for each class $c \\in \\{0,1\\}$ and feature index $d = 1, \\ldots, D$\n",
    "\n",
    "*BUT* what if the features and classes can take one of more than two classes? In this case, we would assume our features and classes are *categorical* variables, and we would use the *multinomial* distribution to model them. If $X$ is a categorical variable with parameter vector $q$, then $P(X = j|q) = q_j$.\n",
    "\n",
    "The Beta prior is the \"good\" prior for the binomial distribution. For the categorical, it's the *Dirichlet* distribution. Let $q \\in \\Delta_K$ be some probability distribution on $K$ classes. Given parameters $\\alpha_1, \\ldots, \\alpha_K$, the Dirichlet distribution for $\\vec \\alpha$ has PDF:\n",
    "$$P_{\\vec \\alpha}(q) := \\frac{1}{B(\\vec \\alpha)} \\prod_{i=1}^K q_i^{\\alpha_i - 1}$$\n",
    "where $B(\\vec \\alpha) := \\frac{\\prod_{i=1}^K \\Gamma(\\alpha_i)}{\\Gamma(\\sum_{i=1}^K \\alpha_i)}$."
   ]
  },
  {
   "cell_type": "markdown",
   "metadata": {
    "slideshow": {
     "slide_type": "slide"
    }
   },
   "source": [
    "## Classification Part 2: Logistic Regression"
   ]
  },
  {
   "cell_type": "markdown",
   "metadata": {
    "slideshow": {
     "slide_type": "slide"
    }
   },
   "source": [
    "## Our models so far:\n",
    "\n",
    "+ Linear regression\n",
    "    + Tries to find a model to predict $y$ from $x \\in \\R^d$, with parameters $\\theta \\in \\R^d$\n",
    "    + The variable $y$ is a *real* number\n",
    "    + Model assumes that $y$ is Gaussian with mean $x^\\top \\theta$ and variance $\\sigma^2$\n",
    "    + Model does **not** treat $x$ as a random variable\n",
    "+ Naive Bayes\n",
    "    + Tries to find a model to predict $y$ from $x$, with parameters $\\theta, \\mu$\n",
    "    + (Typically) the variable $y$ is a *categorical* variable\n",
    "    + (Typically) the coordinates of $x$ are *categorical* variables\n",
    "    + Model **does** treat $x$ as a random variable\n",
    "    + The model makes the (somewhat unusual) assumption that features $x = (x_1, \\ldots, x_D)$ are *independent once we condition on $y$*\n"
   ]
  },
  {
   "cell_type": "markdown",
   "metadata": {
    "slideshow": {
     "slide_type": "slide"
    }
   },
   "source": [
    "## New Model: Logistic Regression\n",
    "\n",
    "+ Logistic regression\n",
    "    + Tries to find a model to predict $y$ from $x \\in \\R^d$, with parameters $\\theta \\in \\R^d$\n",
    "    + Model assumes that variable $y$ is a *categorical* variable with parameters $q$\n",
    "    + The prediction for $y$ is a probability distribution $q = P(y=1|x,\\theta), \\ldots, P(y=K|x,\\theta)$\n",
    "    + Model does **not** treat $x$ as a random variable\n",
    "    + Despite the name, LR is really a *classification* algorithm, not a regression alg"
   ]
  },
  {
   "cell_type": "markdown",
   "metadata": {
    "slideshow": {
     "slide_type": "slide"
    }
   },
   "source": [
    "## The likelihood model for Logistic Regression\n",
    "\n",
    "In this lecture, let us assume that the categorical label $y$ is *binary*, indeed $y \\in \\{-1,1\\}$, just to make things easier. But it is not hard to generalize this to multiclass (categorical > 2) settings.\n",
    "\n",
    "Given input $x$ and parameters $\\theta$, the prediction for $y$ can be viewed as a probability $q$ where\n",
    "$$q := P(y = 1 | x, \\theta) = \\frac{1}{1 + \\exp(-x^\\top \\theta)} = \\frac{\\exp(x^\\top \\theta)}{1 + \\exp(x^\\top \\theta)}.$$\n",
    "\n",
    "What's going on here? The problem is that $\\theta^\\top x$ is not guaranteed to be in $[0,1]$. We need to \"squash\" the real number $\\theta^\\top x$ into the probability space $[0,1]$. The standard way to do this is with the *sigmoid* function $\\sigma(s) = \\frac{1}{1 + \\exp(-s)}$.\n",
    "\n",
    "A nice property of the sigmoid: $\\sigma(-s) = (1-\\sigma(s))$. This is used a lot.\n"
   ]
  },
  {
   "cell_type": "markdown",
   "metadata": {
    "slideshow": {
     "slide_type": "slide"
    }
   },
   "source": [
    "## Log odds ratio\n",
    "\n",
    "It's often interesting to define what we call the *log-odds ratio* of a probability $p$ as $\\log \\frac{p}{1-p}$.\n",
    "\n",
    "\n",
    "With this in mind, we can also state this the Logistic Regression model as follows: the *log-odds ratio* is linear in $x$. That is, we have\n",
    "$$\\log \\frac{P(y = 1 | x, \\theta)}{P(y = -1 | x, \\theta)} = \\theta^\\top x$$"
   ]
  },
  {
   "cell_type": "markdown",
   "metadata": {
    "slideshow": {
     "slide_type": "slide"
    }
   },
   "source": [
    "## A Challenge for LR: No closed form MLE!\n",
    "\n",
    "The maximum likelihood estimator for the logistic regression is the following:\n",
    "$$\n",
    "\\begin{eqnarray*}\n",
    "\\theta^{\\text{MLE}} & := & \\arg\\max_{\\theta \\in \\R^d} \\sum_{i=1}^n \\log P(y_i | x_i, \\theta) \\\\\n",
    "& = & \\arg\\max_{\\theta \\in \\R^d} \\sum_{i=1}^n \\log \\left(\\sigma(x_i^\\top \\theta)^{\\mathbb{I}(y_i = 1)}(1-\\sigma(x_i^\\top \\theta))^{\\mathbb{I}(y_i = -1)}\\right) \\\\\n",
    "& = & \\arg\\max_{\\theta \\in \\R^d} \\sum_{i=1}^n \\log \\sigma(y_i(x_i^\\top \\theta))\n",
    "\\end{eqnarray*}\n",
    "$$\n"
   ]
  },
  {
   "cell_type": "markdown",
   "metadata": {
    "slideshow": {
     "slide_type": "slide"
    }
   },
   "source": [
    "If we define $h(x) = \\sigma(x^T\\theta)$, with some algebra, we can alternatively write down the loss for logistic regression as:\n",
    "$$L(\\theta) = \\sum_{i=1}^{m} (−y_i \\log(h(x_i)) − (1−y_i) \\log(1−h(x_i)))$$"
   ]
  },
  {
   "cell_type": "markdown",
   "metadata": {},
   "source": [
    "### Exercise: \n",
    "\n",
    "Derive the gradient of the loss function above and what would the GD/SGD steps look like?"
   ]
  },
  {
   "cell_type": "markdown",
   "metadata": {},
   "source": [
    "Full Gradient matrix form: $\\nabla_{\\theta} L(\\theta) = \\frac{1}{m} \\sum_{i=1}^{m} (h(x_i)−y_i) x_i$\n",
    "\n",
    "SGD Step co-ord wise: $\\theta_j = \\theta_j − \\alpha(h(x_i)−y_i)x_i^j$"
   ]
  },
  {
   "cell_type": "markdown",
   "metadata": {},
   "source": [
    "### Exercise: \n",
    "\n",
    "Derive the Hessian of the loss function above and what would the Newton's method step look like?"
   ]
  },
  {
   "cell_type": "markdown",
   "metadata": {},
   "source": [
    "$H = \\frac{1}{m} \\sum_{i=1}^{m} \\left[ h(x_i)(1−h(x_i)) x_i x_i^T \\right]$\n",
    "    \n",
    "Newton Step: $\\theta = \\theta − H^{−1} \\nabla_\\theta L(\\theta)$"
   ]
  },
  {
   "cell_type": "markdown",
   "metadata": {},
   "source": [
    "Does this work?"
   ]
  },
  {
   "cell_type": "code",
   "execution_count": 1,
   "metadata": {},
   "outputs": [
    {
     "name": "stdout",
     "output_type": "stream",
     "text": [
      "--2018-11-06 14:57:55--  https://raw.githubusercontent.com/cs4540-f18/cs4540-f18.github.io/master/lectures/logistic_x.txt\n",
      "Resolving raw.githubusercontent.com (raw.githubusercontent.com)... 151.101.32.133\n",
      "Connecting to raw.githubusercontent.com (raw.githubusercontent.com)|151.101.32.133|:443... connected.\n",
      "HTTP request sent, awaiting response... 200 OK\n",
      "Length: 2399 (2.3K) [text/plain]\n",
      "Saving to: ‘logistic_x.txt.1’\n",
      "\n",
      "logistic_x.txt.1    100%[===================>]   2.34K  --.-KB/s    in 0s      \n",
      "\n",
      "2018-11-06 14:57:56 (21.6 MB/s) - ‘logistic_x.txt.1’ saved [2399/2399]\n",
      "\n",
      "--2018-11-06 14:57:56--  https://raw.githubusercontent.com/cs4540-f18/cs4540-f18.github.io/master/lectures/logistic_y.txt\n",
      "Resolving raw.githubusercontent.com (raw.githubusercontent.com)... 151.101.32.133\n",
      "Connecting to raw.githubusercontent.com (raw.githubusercontent.com)|151.101.32.133|:443... connected.\n",
      "HTTP request sent, awaiting response... 200 OK\n",
      "Length: 1119 (1.1K) [text/plain]\n",
      "Saving to: ‘logistic_y.txt.1’\n",
      "\n",
      "logistic_y.txt.1    100%[===================>]   1.09K  --.-KB/s    in 0s      \n",
      "\n",
      "2018-11-06 14:57:56 (27.4 MB/s) - ‘logistic_y.txt.1’ saved [1119/1119]\n",
      "\n"
     ]
    }
   ],
   "source": [
    "!wget https://raw.githubusercontent.com/cs4540-f18/cs4540-f18.github.io/master/lectures/logistic_x.txt\n",
    "!wget https://raw.githubusercontent.com/cs4540-f18/cs4540-f18.github.io/master/lectures/logistic_y.txt\n",
    "###If this doesnt work in Colab, just clone class repo to your computer and open the jupyter notebook"
   ]
  },
  {
   "cell_type": "code",
   "execution_count": 3,
   "metadata": {},
   "outputs": [
    {
     "name": "stdout",
     "output_type": "stream",
     "text": [
      "[55.5 41.  53.5 46.  41.  51.5 51.  42.  53.5 57.5 42.5 41.  46.  46.\n",
      " 49.5 41.  48.5 51.5 44.5 44.  33.  33.5 31.5 33.  42.  30.  61.  49.\n",
      " 26.5 34.  42.  29.5 39.5 51.5 41.5 42.5 35.  38.5 32.  46.  36.5 36.5\n",
      " 24.  19.  34.5 37.5 35.5 37.  21.5 35.5 26.5 26.5 18.5 40.  32.5 39.\n",
      " 43.  22.  36.  31.  38.5 40.  37.5 24.5 30.  33.  56.5 41.  49.5 34.5\n",
      " 32.5 36.  27.  41.  29.5 20.  38.  18.5 16.  33.5]\n"
     ]
    },
    {
     "data": {
      "image/png": "[encoded data removed]",
      "text/plain": [
       "<Figure size 432x288 with 1 Axes>"
      ]
     },
     "metadata": {},
     "output_type": "display_data"
    }
   ],
   "source": [
    "###Setting up ---- dont worry about this part\n",
    "import numpy as np\n",
    "import matplotlib.pyplot as plt\n",
    "from numpy.linalg import inv\n",
    "\n",
    "init = False\n",
    "file = open('logistic_x.txt', 'rb')\n",
    "for row in file:\n",
    "    r = row.decode('utf8').strip().split(' ')\n",
    "    if(init == False):\n",
    "        x_train = np.array([[1], [np.float(r[0])], [np.float(r[len(r)-1])]])\n",
    "        init = True\n",
    "    else:\n",
    "        x_train = np.append(x_train, [[1], [np.float(r[0])], [np.float(r[len(r)-1])]], axis=1);\n",
    "init = False\n",
    "file = open('logistic_y.txt', 'rb')\n",
    "for row in file:\n",
    "    if(init == False):\n",
    "        y_train = np.array([[np.float(row.strip())]])\n",
    "        init = True\n",
    "    else:\n",
    "        y_train = np.append(y_train, [[np.float(row.strip())]], axis=1);\n",
    "\n",
    "m = y_train.shape[1]\n",
    "theta = np.zeros((x_train.shape[0], 1))\n",
    "\n",
    "\n",
    "def sigmoid(z):\n",
    " return 1/(1+np.exp(-z))\n",
    "\n",
    "pos = np.flatnonzero(y_train == 1)\n",
    "neg = np.flatnonzero(y_train == 0)\n",
    "\n",
    "plt.plot(x_train[1, pos], x_train[2, pos], 'ro')\n",
    "plt.plot(x_train[1, neg], x_train[2, neg], 'bo')"
   ]
  },
  {
   "cell_type": "code",
   "execution_count": 3,
   "metadata": {},
   "outputs": [
    {
     "name": "stdout",
     "output_type": "stream",
     "text": [
      "0.6931471805599453\n",
      "0.6931471805599453\n",
      "0.6931471805599453\n",
      "0.6931471805599453\n",
      "0.6931471805599453\n",
      "0.6931471805599453\n",
      "0.6931471805599453\n",
      "0.6931471805599453\n",
      "0.6931471805599453\n",
      "0.6931471805599453\n",
      "[[0.]\n",
      " [0.]\n",
      " [0.]]\n"
     ]
    },
    {
     "name": "stderr",
     "output_type": "stream",
     "text": [
      "/anaconda2/lib/python2.7/site-packages/ipykernel_launcher.py:23: RuntimeWarning: invalid value encountered in double_scalars\n"
     ]
    },
    {
     "data": {
      "image/png": "[encoded data removed]",
      "text/plain": [
       "<Figure size 432x288 with 1 Axes>"
      ]
     },
     "metadata": {},
     "output_type": "display_data"
    }
   ],
   "source": [
    "###Training with Newton's method which you will implement!!!!\n",
    "yT = y_train.T\n",
    "xT = x_train.T\n",
    "#iterator 500 steps\n",
    "for x in range(0, 10):\n",
    "    h = sigmoid(theta.T.dot(x_train))\n",
    "    error = h - y_train\n",
    "    tmp = (-1)*y_train*np.log(h) - (1-y_train)*np.log((1-h))\n",
    "    J = np.sum(tmp)/m;\n",
    "    #calculate H\n",
    "    #Write your line of code here\n",
    "    \n",
    "    #calculate gradient\n",
    "    #Write your line of code here\n",
    "    \n",
    "    #Update theta\n",
    "    #Write your lines of code here\n",
    "    print(J)\n",
    "    \n",
    "print(theta)\n",
    "\n",
    "plot_x = [np.ndarray.min(x_train[1:]), np.ndarray.max(x_train[1:])]\n",
    "plot_y = np.subtract(np.multiply(-(theta[2][0]/theta[1][0]), plot_x), theta[0][0]/theta[1][0])\n",
    "plt.plot(plot_x, plot_y, 'b-')\n",
    "\n",
    "plt.show()"
   ]
  },
  {
   "cell_type": "code",
   "execution_count": 4,
   "metadata": {},
   "outputs": [],
   "source": [
    "import numpy as np\n",
    "import matplotlib.pyplot as plt\n",
    "from numpy.linalg import inv\n",
    "\n",
    "#we read data from files line by line ------ dont worry about this part\n",
    "init = False\n",
    "file = open('logistic_x.txt', 'rb')\n",
    "for row in file:\n",
    "    r = row.decode('utf8').strip().split(' ')\n",
    "    if(init == False):\n",
    "        x_train = np.array([[1], [np.float(r[0])], [np.float(r[len(r)-1])]])\n",
    "        init = True\n",
    "    else:\n",
    "        x_train = np.append(x_train, [[1], [np.float(r[0])], [np.float(r[len(r)-1])]], axis=1);\n",
    "init = False\n",
    "file = open('logistic_y.txt', 'rb')\n",
    "for row in file:\n",
    "    if(init == False):\n",
    "        y_train = np.array([[np.float(row.strip())]])\n",
    "        init = True\n",
    "    else:\n",
    "        y_train = np.append(y_train, [[np.float(row.strip())]], axis=1);"
   ]
  },
  {
   "cell_type": "code",
   "execution_count": 5,
   "metadata": {
    "scrolled": true
   },
   "outputs": [
    {
     "data": {
      "text/plain": [
       "[<matplotlib.lines.Line2D at 0x111609590>]"
      ]
     },
     "execution_count": 5,
     "metadata": {},
     "output_type": "execute_result"
    },
    {
     "data": {
      "image/png": "[encoded data removed]",
      "text/plain": [
       "<Figure size 432x288 with 1 Axes>"
      ]
     },
     "metadata": {},
     "output_type": "display_data"
    }
   ],
   "source": [
    "#number of training examples ------- dont worry about this part\n",
    "m = y_train.shape[1]\n",
    "#init theta\n",
    "theta = np.array(np.zeros((x_train.shape[0], 1)))\n",
    "\n",
    "#sigmoid function\n",
    "def sigmoid(z):\n",
    "    return 1/(1+np.exp(-z))\n",
    "\n",
    "#we find all indices that make y=1 and y=0\n",
    "pos = np.flatnonzero(y_train == 1)\n",
    "neg = np.flatnonzero(y_train == 0)\n",
    "\n",
    "#plot data points\n",
    "plt.plot(x_train[1, pos], x_train[2, pos], 'ro')\n",
    "plt.plot(x_train[1, neg], x_train[2, neg], 'bo')    "
   ]
  },
  {
   "cell_type": "code",
   "execution_count": 6,
   "metadata": {},
   "outputs": [
    {
     "name": "stdout",
     "output_type": "stream",
     "text": [
      "[0.66562014]\n",
      "[0.66518165]\n",
      "[0.66473473]\n",
      "[0.66428829]\n",
      "[0.66384282]\n",
      "[0.66339833]\n",
      "[0.66295481]\n"
     ]
    },
    {
     "ename": "KeyboardInterrupt",
     "evalue": "",
     "output_type": "error",
     "traceback": [
      "\u001b[0;31m---------------------------------------------------------------------------\u001b[0m",
      "\u001b[0;31mKeyboardInterrupt\u001b[0m                         Traceback (most recent call last)",
      "\u001b[0;32m<ipython-input-6-17fdac0bf138>\u001b[0m in \u001b[0;36m<module>\u001b[0;34m()\u001b[0m\n\u001b[1;32m     12\u001b[0m         \u001b[0mh\u001b[0m \u001b[0;34m=\u001b[0m \u001b[0msigmoid\u001b[0m\u001b[0;34m(\u001b[0m\u001b[0mtheta\u001b[0m\u001b[0;34m.\u001b[0m\u001b[0mT\u001b[0m\u001b[0;34m.\u001b[0m\u001b[0mdot\u001b[0m\u001b[0;34m(\u001b[0m\u001b[0mx_train\u001b[0m\u001b[0;34m[\u001b[0m\u001b[0;34m:\u001b[0m\u001b[0;34m,\u001b[0m\u001b[0mi\u001b[0m\u001b[0;34m]\u001b[0m\u001b[0;34m.\u001b[0m\u001b[0mT\u001b[0m\u001b[0;34m)\u001b[0m\u001b[0;34m)\u001b[0m\u001b[0;34m\u001b[0m\u001b[0m\n\u001b[1;32m     13\u001b[0m         \u001b[0merror\u001b[0m \u001b[0;34m=\u001b[0m \u001b[0mh\u001b[0m\u001b[0;34m.\u001b[0m\u001b[0mT\u001b[0m \u001b[0;34m-\u001b[0m \u001b[0myT\u001b[0m\u001b[0;34m[\u001b[0m\u001b[0mi\u001b[0m\u001b[0;34m]\u001b[0m\u001b[0;34m\u001b[0m\u001b[0m\n\u001b[0;32m---> 14\u001b[0;31m         \u001b[0mtmp\u001b[0m \u001b[0;34m=\u001b[0m \u001b[0;34m(\u001b[0m\u001b[0;34m-\u001b[0m\u001b[0;36m1\u001b[0m\u001b[0;34m)\u001b[0m\u001b[0;34m*\u001b[0m\u001b[0myT\u001b[0m\u001b[0;34m[\u001b[0m\u001b[0mi\u001b[0m\u001b[0;34m]\u001b[0m\u001b[0;34m*\u001b[0m\u001b[0mnp\u001b[0m\u001b[0;34m.\u001b[0m\u001b[0mlog\u001b[0m\u001b[0;34m(\u001b[0m\u001b[0mh\u001b[0m\u001b[0;34m)\u001b[0m \u001b[0;34m-\u001b[0m \u001b[0;34m(\u001b[0m\u001b[0;36m1\u001b[0m\u001b[0;34m-\u001b[0m\u001b[0myT\u001b[0m\u001b[0;34m[\u001b[0m\u001b[0mi\u001b[0m\u001b[0;34m]\u001b[0m\u001b[0;34m)\u001b[0m\u001b[0;34m*\u001b[0m\u001b[0mnp\u001b[0m\u001b[0;34m.\u001b[0m\u001b[0mlog\u001b[0m\u001b[0;34m(\u001b[0m\u001b[0;34m(\u001b[0m\u001b[0;36m1\u001b[0m\u001b[0;34m-\u001b[0m\u001b[0mh\u001b[0m\u001b[0;34m)\u001b[0m\u001b[0;34m)\u001b[0m\u001b[0;34m\u001b[0m\u001b[0m\n\u001b[0m\u001b[1;32m     15\u001b[0m         \u001b[0;31m#accumulate cost function\u001b[0m\u001b[0;34m\u001b[0m\u001b[0;34m\u001b[0m\u001b[0m\n\u001b[1;32m     16\u001b[0m         \u001b[0mJ\u001b[0m \u001b[0;34m=\u001b[0m \u001b[0mJ\u001b[0m \u001b[0;34m+\u001b[0m \u001b[0mtmp\u001b[0m\u001b[0;34m\u001b[0m\u001b[0m\n",
      "\u001b[0;31mKeyboardInterrupt\u001b[0m: "
     ]
    }
   ],
   "source": [
    "###This is training part which uses SGD/GD ----- dont run this in class but later compare it against Newton's \n",
    "###method which you will implement below.\n",
    "x = 0\n",
    "xT = x_train.T\n",
    "yT = y_train.T\n",
    "preJ = 0\n",
    "while True:\n",
    "    J = 0\n",
    "    x = x + 1;\n",
    "    for i in range(0, m):\n",
    "        #calculate h, error, cost function for 1 training example\n",
    "        h = sigmoid(theta.T.dot(x_train[:,i].T))\n",
    "        error = h.T - yT[i]\n",
    "        tmp = (-1)*yT[i]*np.log(h) - (1-yT[i])*np.log((1-h))\n",
    "        #accumulate cost function\n",
    "        J = J + tmp\n",
    "        nX = np.array([x_train[:,i]]).T\n",
    "        #update theta\n",
    "        theta = theta - 0.000003*(error*nX)\n",
    "    J=J/m\n",
    "    #just print cost function for every 1000steps\n",
    "    if(x == 1000):\n",
    "        x = 0\n",
    "        print(J)\n",
    "    if(preJ == 0):\n",
    "        preJ = J\n",
    "    #condition to stop learning when cost function do not decrease anymore\n",
    "    if((preJ) < (J)):\n",
    "        break\n",
    "    else:\n",
    "        preJ = J\n",
    "#we got theta\n",
    "print(theta)\n",
    "\n",
    "#plot the line that separate data poits\n",
    "plot_x = [np.ndarray.min(x_train[1:]), np.ndarray.max(x_train[1:])]\n",
    "plot_y = np.subtract(np.multiply(-(theta[2][0]/theta[1][0]), plot_x), theta[0][0]/theta[1][0])\n",
    "plt.plot(plot_x, plot_y, 'b-')\n",
    "\n",
    "plt.show()"
   ]
  },
  {
   "cell_type": "code",
   "execution_count": null,
   "metadata": {},
   "outputs": [],
   "source": [
    "###Answers\n",
    "## H = (h*(1-h)*(x_train)).dot(x_train.T)/m\n",
    "\n",
    "## dJ = np.sum(error*x_train, axis=1)/m\n",
    "\n",
    "###gradient = H-1.dJ\n",
    "###grad = inv(H).dot(dJ)\n",
    "###update theta\n",
    "###theta = theta - (np.array([grad])).T"
   ]
  },
  {
   "cell_type": "markdown",
   "metadata": {},
   "source": [
    "If you are not impressed, go home and try gradient descent!"
   ]
  }
 ],
 "metadata": {
  "celltoolbar": "Slideshow",
  "kernelspec": {
   "display_name": "Python 3",
   "language": "python",
   "name": "python3"
  },
  "language_info": {
   "codemirror_mode": {
    "name": "ipython",
    "version": 3
   },
   "file_extension": ".py",
   "mimetype": "text/x-python",
   "name": "python",
   "nbconvert_exporter": "python",
   "pygments_lexer": "ipython3",
   "version": "3.5.2"
  }
 },
 "nbformat": 4,
 "nbformat_minor": 2
}
