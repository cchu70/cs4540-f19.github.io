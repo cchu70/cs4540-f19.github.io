{
 "cells": [
  {
   "cell_type": "code",
   "execution_count": 1,
   "metadata": {},
   "outputs": [],
   "source": [
    "%matplotlib inline\n",
    "import numpy as np;\n",
    "import matplotlib\n",
    "import matplotlib.pyplot as plt\n",
    "\n",
    "np.random.seed(1337)\n",
    "\n",
    "kwargs = {'linewidth' : 3.5}\n",
    "font = {'weight' : 'normal', 'size'   : 24}\n",
    "matplotlib.rc('font', **font)\n",
    "\n",
    "def error_plot(ys, yscale='log'):\n",
    "    plt.figure(figsize=(8, 8))\n",
    "    plt.xlabel('Step')\n",
    "    plt.ylabel('Error')\n",
    "    plt.yscale(yscale)\n",
    "    plt.plot(range(len(ys)), ys, **kwargs)"
   ]
  },
  {
   "cell_type": "markdown",
   "metadata": {},
   "source": [
    "$\\LaTeX \\text{ commands here}\n",
    "\\newcommand{\\R}{\\mathbb{R}}\n",
    "\\newcommand{\\im}{\\text{im}\\,}\n",
    "\\newcommand{\\norm}[1]{||#1||}\n",
    "\\newcommand{\\inner}[1]{\\langle #1 \\rangle}\n",
    "\\newcommand{\\span}{\\mathrm{span}}\n",
    "\\newcommand{\\proj}{\\mathrm{proj}}\n",
    "\\newcommand{\\OPT}{\\mathrm{OPT}}\n",
    "\\newcommand{\\grad}{\\nabla}\n",
    "\\newcommand{\\eps}{\\varepsilon}\n",
    "$"
   ]
  },
  {
   "cell_type": "markdown",
   "metadata": {
    "slideshow": {
     "slide_type": "slide"
    }
   },
   "source": [
    "<hr style=\"border: 5px solid black\">\n",
    "\n",
    "**Georgia Tech, CS 4540**\n",
    "\n",
    "# L10: Gradient Descent Variants\n",
    "\n",
    "Jake Abernethy, Benjamin Bray, Naveen Kodali\n",
    "\n",
    "*Thursday, September 20, 2018*"
   ]
  },
  {
   "cell_type": "markdown",
   "metadata": {
    "slideshow": {
     "slide_type": "slide"
    }
   },
   "source": [
    "### Recall:  Gradient Descent\n",
    "\n",
    "Minimize an objective $f : \\R^d \\rightarrow \\R$ by following the negative gradient direction:\n",
    "\n",
    "$$\n",
    "x_{t+1} = x_t - \\eta_t \\nabla f(x_t) \n",
    "$$\n",
    "\n",
    "Last time, we began proving the following convergence rate:\n",
    "\n",
    "<div style=\"padding:20px;margin:20px;border:1px solid black\">\n",
    "<b>Theorem:</b> If $f : \\R^d \\rightarrow \\R$ is convex, differentiable and L-Lipschitz on all of $\\R^d$ and $||x_0 - x^*|| \\leq R$ where $x^*$ is the global minimum, then there is a step size $\\eta > 0$ such that the iterates of gradient descent satisfy\n",
    "$$\n",
    "f\\left(\\frac{1}{t}\\sum_{i=0}^{t}x_i\\right) - f(x^*) \\leq \\frac{R L}{\\sqrt{t}}\n",
    "$$\n",
    "</div>"
   ]
  },
  {
   "cell_type": "markdown",
   "metadata": {
    "slideshow": {
     "slide_type": "slide"
    }
   },
   "source": [
    "### Problem:  Tuning the Step Size\n",
    "\n",
    "Last time, we were able to show that for any step size $\\eta > 0$,\n",
    "\n",
    "$$f\\left(\\frac{1}{t}\\sum_{i=0}^{t}x_i\\right) - f(x^*) \\leq \\frac{R^2}{2\\eta t} + \\frac{\\eta L^2}{2}$$\n",
    "\n",
    "<div style=\"padding:20px;margin:20px;border:1px solid black\">\n",
    "<b>Problem:</b> Find the choice of step size $\\eta > 0$ that gives the best possible bound on the convergence rate.  What is the corresponding bound?\n",
    "</div>"
   ]
  },
  {
   "cell_type": "markdown",
   "metadata": {
    "slideshow": {
     "slide_type": "slide"
    }
   },
   "source": [
    "### Solution:  Tuning the Step Size\n",
    "\n",
    "Define $g(\\eta) = \\frac{R^2}{2\\eta t} + \\frac{\\eta L^2}{2}$ and differentiate:\n",
    "\n",
    "$$\n",
    "\\frac{\\partial g}{\\partial \\eta}\n",
    "= \\frac{-R^2}{2\\eta^2 t} + \\frac{L^2}{2}\n",
    "$$\n",
    "\n",
    "Setting the derivative to zero and solving for $\\eta$ gives $\\eta = \\frac{R}{L\\sqrt{t}}$.  Plugging this into $g$ proves the theorem!"
   ]
  },
  {
   "cell_type": "markdown",
   "metadata": {
    "slideshow": {
     "slide_type": "slide"
    }
   },
   "source": [
    "### Choosing the Step Size\n",
    "\n",
    "In general, there are several strategies for choosing the step size:\n",
    "\n",
    "* **Constant:**  Choose the same step size $\\eta_t = \\eta$ for all times.\n",
    "* **Theoretical:** Choose a step size that guarantees a nice convergence rate.\n",
    "* **Shrinking:**  Choose some sequence $\\eta_t \\rightarrow 0$ to guarantee convergence.\n",
    "* **Line Search:** Solve a nested minimization to pick the best step size in the current direction: $$\\eta_t = \\arg\\min_{\\eta \\in (0,1]} f(x_{t-1} - \\eta \\nabla f(x_{t-1}))$$\n",
    "* **Adaptive Step Size:** Use more information about the function/problem to adjust the step size as needed.  For example, *Newton's method* adjusts the step size based on the curvature of $f$ at the current iterate."
   ]
  },
  {
   "cell_type": "markdown",
   "metadata": {
    "slideshow": {
     "slide_type": "slide"
    }
   },
   "source": [
    "### Remark:  Projected Gradient Descent\n",
    "\n",
    "Suppose we want to minimize $f : \\Omega \\rightarrow \\R$ within some convex set $\\Omega \\subset \\R^d$ instead of the entire space $\\R^d$.  We can still apply gradient descent as long as we **project** back onto the convex domain $\\Omega$ after each iteration:\n",
    "\n",
    "<div style=\"display:flex; justify-content:center; align-items:center; margin: 0 auto\">\n",
    "<img src=\"images/l10-projected-gd.png\">\n",
    "<div>\n",
    "$$\n",
    "\\begin{align}\n",
    "y_{t+1} &= x_t - \\eta_t \\grad f(x_t) \\\\\n",
    "x_{t+1} &= \\Pi_\\Omega(y_{t+1})\n",
    "\\end{align}\n",
    "$$\n",
    "</div>\n",
    "</div>\n",
    "Here, $\\Pi_\\Omega(x) = \\min_{z \\in \\Omega} \\norm{z-x}_2^2$ projects onto the convex set $\\Omega$.\n",
    "\n",
    "<div style=\"padding:10px; margin:10px; border: 1px solid black\">\n",
    "<b>Problem:</b> Argue that Projected Gradient Descent achieves the same convergence rate by making a minor adjusment to the proof.\n",
    "</div>"
   ]
  },
  {
   "cell_type": "markdown",
   "metadata": {
    "slideshow": {
     "slide_type": "slide"
    }
   },
   "source": [
    "### Assumptions about the Objective\n",
    "\n",
    "When minimizing an objective $f : \\Omega \\rightarrow \\R$ using gradient descent, we can obtain stronger convergence guarantees by making assumptions about how \"nice\" of a function $f$ is:\n",
    "\n",
    "* **Convex:** $f(\\theta x + (1-\\theta) y) \\leq \\theta f(x) + (1-\\theta) f(y)$ for all $x,y \\in \\Omega$ and $\\theta \\in [0,1]$\n",
    "* **$L$-Lipschitz:** $\\norm{\\nabla f(x)} \\leq L$\n",
    "* **$\\alpha$-Strongly Convex:** $\\nabla^2 f(x) \\succcurlyeq \\alpha I$\n",
    "* **$\\beta$-Smooth:** $\\nabla^2 f(x) \\preccurlyeq \\beta I$"
   ]
  },
  {
   "cell_type": "markdown",
   "metadata": {
    "slideshow": {
     "slide_type": "slide"
    }
   },
   "source": [
    "# Strong Convexity & Smoothness"
   ]
  },
  {
   "cell_type": "markdown",
   "metadata": {
    "slideshow": {
     "slide_type": "slide"
    }
   },
   "source": [
    "### Problem:  Matrix Inequalities\n",
    "\n",
    "Remember the notation $C \\succcurlyeq D$ means $C - D$ is positive-semidefinite.  Below, let $A \\in \\R^{n \\times n}$ be symmetric.\n",
    "\n",
    "<div style=\"padding:10px;margin:10px;border:1px solid black\">\n",
    "<b>Part A:</b> For some $\\alpha \\in \\R$, when is $\\alpha I \\succcurlyeq 0$?  When is $\\alpha I \\preccurlyeq 0$? <br/>\n",
    "\n",
    "<b>Part B:</b> If $A$ has eigenpairs $A v_k = \\lambda_k v_k$ for $1 \\leq k \\leq n$, what are the eigenvalues and eigenvectors of $A - \\alpha I$ when $\\alpha \\in \\R$?<br/>\n",
    "\n",
    "<b>Part B:</b>  Let $A \\in \\R^{n \\times n}$ be symmetric.  For fixed $\\alpha > 0$, which conditions guarantee that $A \\succcurlyeq \\alpha I$?  What about $A \\preccurlyeq \\alpha I$?\n",
    "</div>"
   ]
  },
  {
   "cell_type": "markdown",
   "metadata": {
    "slideshow": {
     "slide_type": "slide"
    }
   },
   "source": [
    "### Solution:  Matrix Inequalities\n",
    "\n",
    "**Part A:** The eigenvalues of $\\alpha I$ are all equal to $\\alpha$, so this matrix is psd when $\\alpha \\geq 0$ and nsd when $\\alpha \\leq 0$.\n",
    "\n",
    "**Part B:** The matrix $A - \\alpha I$ has eigenvectors $v_k$ and eigenvalues $\\mu_k = \\lambda_k - \\alpha$, since\n",
    "$$\n",
    "(A - \\alpha I) v_k = A v_k - \\alpha v_k = (\\lambda_k - \\alpha) v_k\n",
    "$$\n",
    "\n",
    "**Part C:** By definition, $A \\succcurlyeq \\alpha I$ iff $A - \\alpha I$ is positive semidefinite.  By the previous part, this requires $\\lambda_k \\geq \\alpha$ for all $k$.  Similarly, $A \\preccurlyeq \\alpha I$ whenever $\\lambda_k \\leq \\alpha$ for all $k$."
   ]
  },
  {
   "cell_type": "markdown",
   "metadata": {
    "slideshow": {
     "slide_type": "slide"
    }
   },
   "source": [
    "### Def:  Strongly Convex\n",
    "\n",
    "Remember that a differentiable function $f : \\Omega \\rightarrow \\R$ is convex iff it lies above its linear approximation at every point, that is,\n",
    "    $$\n",
    "    f(y) \\geq f(x) + \\inner{ \\nabla f(x), y-x } \\quad \\forall\\, x,y \\in \\Omega\n",
    "    $$\n",
    "    \n",
    "A function is **$\\alpha$-strongly convex** if it also lies above a *quadratic* approximation at every point, where $\\alpha$ controls the steepness:\n",
    "    $$\n",
    "    f(y) \\geq f(x) + \\inner{ \\nabla f(x), y-x } + \\tfrac{\\alpha}{2} \\norm{y - x}^2\n",
    "    $$\n",
    "    \n",
    "<div style=\"padding:10px;margin:10px;border: 1px solid black\">\n",
    "<b>Problem:</b> Prove that every strongly convex function is convex.\n",
    "</div>"
   ]
  },
  {
   "cell_type": "markdown",
   "metadata": {
    "slideshow": {
     "slide_type": "slide"
    }
   },
   "source": [
    "### Problem:  Second-Order Condition for Strong Convexity\n",
    "\n",
    "<div style=\"padding:10px;margin:10px;border: 1px solid black\">\n",
    "<b>Problem:</b> Show that if $f$ is twice-differentiable and $\\alpha$-strongly convex, then $\\nabla^2 f \\succcurlyeq \\alpha I$.\n",
    "</div>\n",
    "\n",
    "> *Hint:* First, show that $f$ is $\\alpha$-strongly convex if and only if the function $g(x) = f(x) - \\frac{\\alpha}{2}\\norm{x}_2^2$ is convex.  Then, use the second-order condition for convexity on $g$.\n",
    "\n",
    "    \n",
    "**Reminder**: A function is **$\\alpha$-strongly convex** if it also lies above a *quadratic* approximation at every point, where $\\alpha$ controls the steepness:\n",
    "    $$\n",
    "    f(y) \\geq f(x) + \\inner{ \\nabla f(x), y-x } + \\tfrac{\\alpha}{2} \\norm{y - x}^2\n",
    "    $$\n",
    "    "
   ]
  },
  {
   "cell_type": "markdown",
   "metadata": {
    "slideshow": {
     "slide_type": "slide"
    }
   },
   "source": [
    "### Def:  $\\beta$-Smoothness\n",
    "\n",
    "A function $f : \\Omega \\rightarrow \\R$ is $\\beta$-smooth if it lies *below* a quadratic at each point:\n",
    "\n",
    "$$\n",
    "f(y) \\leq f(x) + \\inner{ \\nabla f(x), y-x } + \\tfrac{\\beta}{2} \\norm{y-x}_2^2\n",
    "$$\n",
    "\n",
    "Similarly to strong-convexity, a twice-differentiable function is $\\beta$-smooth if and only if $\\nabla^2 f(x) \\preccurlyeq \\beta I$ for all $x \\in \\Omega$."
   ]
  },
  {
   "cell_type": "markdown",
   "metadata": {
    "slideshow": {
     "slide_type": "slide"
    }
   },
   "source": [
    "### Problem:  Quadratic Forms\n",
    "\n",
    "Let $A \\in \\R^{d \\times d}$ be symmetric and positive-definite and define $f(x) = \\frac{1}{2} x^T A x$.  \n",
    "\n",
    "* Is $f$ smooth?  If so, with what smoothness constant?\n",
    "* Is $f$ strongly convex?  If so, with what constant?\n"
   ]
  },
  {
   "cell_type": "markdown",
   "metadata": {
    "slideshow": {
     "slide_type": "slide"
    }
   },
   "source": [
    "### Gradient Descent for Smooth and Strongly-Convex Functions\n",
    "\n",
    "Let $f(x)$ be a $\\beta$-smooth and $\\lambda$-strongly convex function with minimizer $x^*$. Assume our initial point is $x_1$, and repeatedly perform gradient descent: $x_{t+1} = x_t - \\eta \\nabla f(x_t)$. Then it can be shown that\n",
    "$$\n",
    "   f(x_T) - f(x^*) \\leq \\frac{\\beta}{2} \\exp(-4T/(\\kappa + 1)) \\|x_1 - x^*\\|^2.\n",
    "$$\n",
    "where $\\kappa = \\frac{\\beta}{\\lambda}$ is the *condition number*, and the learning rate needs to be set as $\\eta = \\frac{2}{\\lambda + \\beta}$."
   ]
  },
  {
   "cell_type": "markdown",
   "metadata": {
    "slideshow": {
     "slide_type": "slide"
    }
   },
   "source": [
    "### Frank-Wolfe / Conditional Gradient\n",
    "\n",
    "Let $f(x)$ be a $\\beta$-smooth function, and assume we want to solve $\\min_{x \\in \\Omega} f(x)$ for some constrained set $\\Omega$ with diameter $D$. The *Frank-Wolfe* algorithm does the following:\n",
    "\n",
    "+ Initialize $x_1$ to some arbitrary point in $\\Omega$\n",
    "+ For $t=1,2,\\ldots, T$:\n",
    "    + compute $v_t + \\arg\\min_{v \\in \\Omega} v^\\top\\nabla f(x_t)$\n",
    "    + update $x_{t+1} = x_t + \\eta_t (v_t - x_t)$\n",
    "    \n",
    "**Theorem**: after $T$ rounds of Frank-Wolfe, we have that\n",
    "$$ f(x_t) - f(x^*) \\leq \\frac{2 \\beta D^2}{t + 2}$$\n",
    "for step size $\\eta_t = 2/(t+2)$.\n",
    "\n",
    "[more](http://fa.bianp.net/blog/2018/notes-on-the-frank-wolfe-algorithm-part-i/) [information](https://ee227c.github.io/notes/ee227c-lecture05.pdf)"
   ]
  },
  {
   "cell_type": "markdown",
   "metadata": {
    "slideshow": {
     "slide_type": "slide"
    }
   },
   "source": [
    "# Implementation\n",
    "\n",
    "> Adapted from [Moritz Hardt's lecture notebook](https://ee227c.github.io/code/lecture4.html)"
   ]
  },
  {
   "cell_type": "markdown",
   "metadata": {
    "slideshow": {
     "slide_type": "slide"
    }
   },
   "source": [
    "\n",
    "## Projected Gradient Descent\n",
    "\n",
    "We start with a basic implementation of projected gradient descent.  Note that this implementation keeps around all points computed along the way. This is clearly not what you would do on large instances. We do this for illustrative purposes to be able to easily inspect the computed sequence of points."
   ]
  },
  {
   "cell_type": "code",
   "execution_count": 4,
   "metadata": {
    "collapsed": true
   },
   "outputs": [],
   "source": [
    "def gradient_descent(init, steps, grad, proj=lambda x: x):\n",
    "    \"\"\"Projected gradient descent.\n",
    "    \n",
    "    Inputs:\n",
    "        initial: starting point\n",
    "        steps: list of scalar step sizes\n",
    "        grad: function mapping points to gradients\n",
    "        proj (optional): function mapping points to points\n",
    "        \n",
    "    Returns:\n",
    "        List of all points computed by projected gradient descent.\n",
    "    \"\"\"\n",
    "    xs = [init]\n",
    "    for step in steps:\n",
    "        x_step = xs[-1]\n",
    "        x_update = None\n",
    "        xs.append(x_update)\n",
    "    return xs"
   ]
  },
  {
   "cell_type": "markdown",
   "metadata": {},
   "source": [
    "## Warm-Up:  Optimizing a Quadratic\n",
    "\n",
    "As a toy example, let's optimize $f(x) = \\frac{1}{2} \\norm{x}^2$, which has gradient $\\nabla f(x) = x$."
   ]
  },
  {
   "cell_type": "code",
   "execution_count": 5,
   "metadata": {
    "collapsed": true
   },
   "outputs": [],
   "source": [
    "def quadratic(x):\n",
    "    return 0.5*x.dot(x)\n",
    "\n",
    "\n",
    "# What is the gradient of this function?\n",
    "def quadratic_gradient(x):\n",
    "    return None\n"
   ]
  },
  {
   "cell_type": "markdown",
   "metadata": {},
   "source": [
    "Note the function is  1-smooth and  1-strongly convex. Our theorems would then suggest that we use a constant step size of  1.  If you think about it, for this step size the algorithm will actually find the optimal solution in just one step."
   ]
  },
  {
   "cell_type": "code",
   "execution_count": 7,
   "metadata": {
    "collapsed": true
   },
   "outputs": [],
   "source": [
    "x0 = np.random.normal(0, 1, (1000))\n",
    "_, x1 = gradient_descent(x0, [1.0], quadratic_gradient)"
   ]
  },
  {
   "cell_type": "markdown",
   "metadata": {},
   "source": [
    "Indeed, it does:"
   ]
  },
  {
   "cell_type": "code",
   "execution_count": 8,
   "metadata": {},
   "outputs": [
    {
     "data": {
      "text/plain": [
       "True"
      ]
     },
     "execution_count": 8,
     "metadata": {},
     "output_type": "execute_result"
    }
   ],
   "source": [
    "x1.all() == 0"
   ]
  },
  {
   "cell_type": "markdown",
   "metadata": {},
   "source": [
    "Let's see what happens if we don't have the right learning rate."
   ]
  },
  {
   "cell_type": "code",
   "execution_count": 9,
   "metadata": {},
   "outputs": [
    {
     "data": {
      "image/png": "[encoded data removed]",
      "text/plain": [
       "<Figure size 576x576 with 1 Axes>"
      ]
     },
     "metadata": {},
     "output_type": "display_data"
    }
   ],
   "source": [
    "xs = gradient_descent(x0, [0.1]*50, quadratic_gradient)\n",
    "error_plot([quadratic(x) for x in xs])"
   ]
  },
  {
   "cell_type": "markdown",
   "metadata": {},
   "source": [
    "### Constrained Optimization\n",
    "\n",
    "Let's say we want to optimize the function inside some affine subspace. Recall that affine subspaces are convex sets. Below we pick a random low dimensional affine subspace  b+U  and define the corresponding linear projection operator."
   ]
  },
  {
   "cell_type": "code",
   "execution_count": null,
   "metadata": {},
   "outputs": [],
   "source": [
    "# U is an orthonormal basis of a random 100-dimensional subspace.\n",
    "U = np.linalg.qr(np.random.normal(0, 1, (1000, 100)))[0]\n",
    "b = np.random.normal(0, 1, 1000)\n",
    "\n",
    "def proj(x):\n",
    "    \"\"\"Projection of x onto an affine subspace\"\"\"\n",
    "    return None\n",
    "# What is this???"
   ]
  },
  {
   "cell_type": "code",
   "execution_count": null,
   "metadata": {},
   "outputs": [],
   "source": [
    "x0 = np.random.normal(0, 1, (1000))\n",
    "xs = gradient_descent(x0, [0.1]*50, quadratic_gradient, proj)\n",
    "# the optimal solution is the projection of the origin\n",
    "x_opt = proj(0)\n",
    "error_plot([quadratic(x) for x in xs])\n",
    "plt.plot(range(len(xs)), [quadratic(x_opt)]*len(xs),\n",
    "        label='$\\\\frac{1}{2}|\\!|x_{\\mathrm{opt}}|\\!|^2$')\n",
    "plt.legend()"
   ]
  },
  {
   "cell_type": "markdown",
   "metadata": {},
   "source": [
    "The orangle line shows the optimal error, which the algorithm reaches quickly. The iterates also converge to the optimal solution in domain as the following plot shows."
   ]
  },
  {
   "cell_type": "code",
   "execution_count": null,
   "metadata": {},
   "outputs": [],
   "source": [
    "error_plot([np.linalg.norm(x_opt-x)**2 for x in xs])"
   ]
  }
 ],
 "metadata": {
  "celltoolbar": "Slideshow",
  "kernelspec": {
   "display_name": "Python [default]",
   "language": "python",
   "name": "python3"
  },
  "language_info": {
   "codemirror_mode": {
    "name": "ipython",
    "version": 3
   },
   "file_extension": ".py",
   "mimetype": "text/x-python",
   "name": "python",
   "nbconvert_exporter": "python",
   "pygments_lexer": "ipython3",
   "version": "3.5.5"
  }
 },
 "nbformat": 4,
 "nbformat_minor": 2
}
