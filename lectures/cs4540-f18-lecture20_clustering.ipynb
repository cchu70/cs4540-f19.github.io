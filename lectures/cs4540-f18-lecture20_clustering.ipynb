{
 "cells": [
  {
   "cell_type": "markdown",
   "metadata": {},
   "source": [
    "$\\LaTeX \\text{ commands here}\n",
    "\\newcommand{\\R}{\\mathbb{R}}\n",
    "\\newcommand{\\im}{\\text{im}\\,}\n",
    "\\newcommand{\\norm}[1]{||#1||}\n",
    "\\newcommand{\\inner}[1]{\\langle #1 \\rangle}\n",
    "\\newcommand{\\span}{\\mathrm{span}}\n",
    "\\newcommand{\\proj}{\\mathrm{proj}}\n",
    "\\newcommand{\\OPT}{\\mathrm{OPT}}\n",
    "\\newcommand{\\vx}{\\vec{x}}\n",
    "\\newcommand{\\I}{\\mathbb{I}}\n",
    "$"
   ]
  },
  {
   "cell_type": "markdown",
   "metadata": {
    "slideshow": {
     "slide_type": "slide"
    }
   },
   "source": [
    "\n",
    "<hr style=\"border: 5px solid black\">\n",
    "\n",
    "**Georgia Tech, CS 4540**\n",
    "\n",
    "# Lecture 20: Clustering, Information Theory, Graphical Models\n",
    "\n",
    "Naveen Kodali and Jacob Abernethy\n",
    "*Date:  Thursday, November 8, 2018*"
   ]
  },
  {
   "cell_type": "markdown",
   "metadata": {
    "slideshow": {
     "slide_type": "slide"
    }
   },
   "source": [
    "## Outline\n",
    "\n",
    "- Exponential Families\n",
    "- Conditional Independence\n",
    "- Latent Variables\n",
    "- K-means clustering\n"
   ]
  },
  {
   "cell_type": "markdown",
   "metadata": {
    "slideshow": {
     "slide_type": "slide"
    }
   },
   "source": [
    "### Exponential Family:  Definition\n",
    "\n",
    "**INTUITION**: $p()$ has **exp family form** when density $p(x | \\theta)$ can be written as $$\\exp(\\text{Linear combination of }\\theta\\text{ and features of }x)$$\n",
    "\n"
   ]
  },
  {
   "cell_type": "markdown",
   "metadata": {
    "slideshow": {
     "slide_type": "fragment"
    }
   },
   "source": [
    "**DEF:** $p(x | \\theta)$ has **exponential family form** if:\n",
    "$$\n",
    "\\begin{align}\n",
    "p(x | \\theta)\n",
    "&= \\frac{1}{Z(\\theta)} \\exp\\left[ \\eta(\\theta)^T \\phi(x) \\right] \\\\\n",
    "&= \\exp\\left[ \\eta(\\theta)^T \\phi(x) - A(\\theta) \\right]\n",
    "\\end{align}\n",
    "$$"
   ]
  },
  {
   "cell_type": "markdown",
   "metadata": {
    "slideshow": {
     "slide_type": "fragment"
    }
   },
   "source": [
    "\n",
    "- $Z(\\theta)$ is the **partition function** for normalization\n",
    "- $A(\\theta) = \\log Z(\\theta)$ is the **log partition function**\n",
    "- $\\phi(x) \\in \\R^d$ is a vector of **sufficient statistics**\n",
    "- $\\eta(\\theta)$ maps $\\theta$ to a set of **natural parameters**"
   ]
  },
  {
   "cell_type": "markdown",
   "metadata": {
    "slideshow": {
     "slide_type": "slide"
    }
   },
   "source": [
    "### Example:  Bernoulli\n",
    "\n",
    "The Bernoulli distribution can be written as\n",
    "$$\n",
    "\\begin{align}\n",
    "\\mathrm{Ber}(x | \\mu)\n",
    "&= \\mu^x (1-\\mu)^{1-x} \\\\\n",
    "&= \\exp\\left[ x \\log \\mu + (1-x) \\log (1-\\mu) \\right] \\\\\n",
    "&= \\exp\\left[ \\eta(\\mu)^T \\phi(x) \\right]\n",
    "\\end{align}\n",
    "$$\n",
    "\n",
    "where $\\eta(\\mu) = (\\log\\mu, \\log(1-\\mu))$ and $\\phi(x) = (x, 1-x)$\n",
    "- There is a linear dependence between features $\\phi(x)$\n",
    "- This representation is **overcomplete**\n",
    "- $\\eta$ is not uniquely determined"
   ]
  },
  {
   "cell_type": "markdown",
   "metadata": {
    "slideshow": {
     "slide_type": "slide"
    }
   },
   "source": [
    "### Example:  Bernoulli\n",
    "\n",
    "Instead, we can find a **minimal** parameterization:\n",
    "$$\n",
    "\\begin{align}\n",
    "\\mathrm{Ber}(x | \\mu) \n",
    "&= (1-\\mu) \\exp\\left[ x \\log\\frac{\\mu}{1-\\mu} \\right]\n",
    "\\end{align}\n",
    "$$\n",
    "\n",
    "This gives **natural parameters** $\\eta = \\log \\frac{\\mu}{1-\\mu}$.\n",
    "- Now, $\\eta$ is unique"
   ]
  },
  {
   "cell_type": "markdown",
   "metadata": {
    "slideshow": {
     "slide_type": "slide"
    }
   },
   "source": [
    "## Problem: Guassian Exponential Family\n",
    "\n",
    "It turns out that the Gaussian distribution can be written in exponential family form. It is *usually* written as \n",
    "$$P_{\\mu, \\sigma^2}(x) := \\frac{1}{\\sqrt{2 \\pi}\\sigma} \\exp(-(x-\\mu)^2/(2\\sigma^2))$$\n",
    "How can you write it in exp family form?\n",
    "$$\n",
    "P_{\\mu, \\sigma^2}(x) = \\exp\\left[ \\eta(\\mu,\\sigma^2)^T \\phi(x) - A(\\theta) \\right]\n",
    "$$\n",
    "Don't worry about normalization!"
   ]
  },
  {
   "cell_type": "markdown",
   "metadata": {
    "slideshow": {
     "slide_type": "slide"
    }
   },
   "source": [
    "## Information Theory\n",
    "\n",
    "> Uses material from **[MLAPP]** §2.8, **[Pierce 1980]**, **[Stone 2015]**, and **[Shannon 1951]**."
   ]
  },
  {
   "cell_type": "markdown",
   "metadata": {
    "slideshow": {
     "slide_type": "slide"
    }
   },
   "source": [
    "### Information Theory\n",
    "\n",
    "- Information theory is concerned with\n",
    "    - **Compression:**  Representing data in a compact fashion\n",
    "    - **Error Correction:**  Transmitting and storing data in a way that is robust to errors\n",
    "\n",
    "- In machine learning, information-theoretic quantities are useful for\n",
    "    - manipulating probability distributions\n",
    "    - interpreting statistical learning algorithms"
   ]
  },
  {
   "cell_type": "markdown",
   "metadata": {
    "slideshow": {
     "slide_type": "slide"
    }
   },
   "source": [
    "### What is Information?\n",
    "\n",
    "- Can we measure the amount of **information** we gain from an observation?\n",
    "    - Information is measured in *bits* ( don't confuse with *binary digits*, $0110001\\dots$ )\n",
    "    - Intuitively, observing a fair coin flip should give 1 bit of information\n",
    "    - Observing two fair coins should give 2 bits, and so on..."
   ]
  },
  {
   "cell_type": "markdown",
   "metadata": {
    "slideshow": {
     "slide_type": "slide"
    }
   },
   "source": [
    "### Information:  Definition\n",
    "\n",
    "- The **information content** of an event $E$ with probability $p$ defined as\n",
    "    $$\n",
    "    I(E) = I(p) = - \\log_2 p = \\log_2 \\frac{1}{p} \\geq 0\n",
    "    $$\n",
    "\n",
    "    - Information theory is about *probabilities* and *distributions*\n",
    "    - The \"meaning\" of events doesn't matter.\n",
    "    - Using bases other than 2 yields different units (Hartleys, nats, ...)"
   ]
  },
  {
   "cell_type": "markdown",
   "metadata": {
    "slideshow": {
     "slide_type": "slide"
    }
   },
   "source": [
    "### Information Example:  Fair Coin—$P(\\text{Head})=0.5$\n",
    "\n",
    "- **One Coin:**  If we observe one head, then\n",
    "    $$\n",
    "    I(\\text{Head}) = - \\log_2 P(\\text{Head}) = 1 \\;\\mathrm{bit}\n",
    "    $$"
   ]
  },
  {
   "cell_type": "markdown",
   "metadata": {
    "slideshow": {
     "slide_type": "fragment"
    }
   },
   "source": [
    "- **Two Coins:** If we observe two heads in a row, \n",
    "    $$\n",
    "    \\begin{align}\n",
    "    I(\\text{Head},\\text{Head})\n",
    "    &= -\\log_2 P(\\text{Head}, \\text{Head}) \\\\\n",
    "    &= -\\log_2 P(\\text{Head})P(\\text{Head}) \\\\\n",
    "    &= -\\log_2 P(\\text{Head}) - \\log_2 P(\\text{Head}) = 2 \\;\\mathrm{bits}\n",
    "    \\end{align}\n",
    "    $$"
   ]
  },
  {
   "cell_type": "markdown",
   "metadata": {
    "slideshow": {
     "slide_type": "slide"
    }
   },
   "source": [
    "### Information Example:  Unfair Coin\n",
    "\n",
    "- Suppose the coin has two heads, so $P(\\text{Head})=1$.  Then,\n",
    "    $$\n",
    "    I(\\text{Head}) = - \\log_2 1 = 0\n",
    "    $$\n",
    "    - We will gain no information!\n",
    "- On the contrary, if we observe tail\n",
    "    $$\n",
    "    I(\\text{Tail}) = - \\log_2 0 = + \\infty\n",
    "    $$\n",
    "    - We will gain *infinite* information because we observe an impossible thing!\n",
    "\n",
    "- Information is a measure of how **surprised** we are by an outcome.\n"
   ]
  },
  {
   "cell_type": "markdown",
   "metadata": {
    "slideshow": {
     "slide_type": "slide"
    }
   },
   "source": [
    "### Entropy:  Definition\n",
    "\n",
    "- The **entropy** of a discrete random variable $X$ with distribution $p$ is\n",
    "    $$\n",
    "    H[X] = E[I(p(X))] = - \\sum_{x \\in X} p(x) \\log p(x)\n",
    "    $$    \n",
    "    - Entropy is the expected information received when we sample from $X$.\n",
    "    - Entropy measures how *surprised* we are on average\n",
    "    - When $X$ is continuous random variable, summation is replaced with integral"
   ]
  },
  {
   "cell_type": "markdown",
   "metadata": {
    "slideshow": {
     "slide_type": "slide"
    }
   },
   "source": [
    "### Entropy:  Coin Flip\n",
    "\n",
    "- If $X$ is binary, entropy is\n",
    "    $$\n",
    "    H[X] = -p \\log p + (1-p) \\log (1-p)\n",
    "    $$\n",
    "    \n",
    "<center>\n",
    "<div class=\"image\"   style=\"width:551px\">\n",
    "    <img src=\"images/Entropy_Plot.png\">\n",
    "</div>\n",
    "</center>\n",
    "\n",
    "- Entropy is highest when $X$ is close to uniform.\n",
    "    - Large entropy $\\iff$ high uncertainty, more information from each new observation\n",
    "    - Small entropy $\\iff$ more knowledge about possible outcomes\n",
    "\n",
    "- The farther from uniform $X$ is, the smaller the entropy."
   ]
  },
  {
   "cell_type": "markdown",
   "metadata": {
    "slideshow": {
     "slide_type": "slide"
    }
   },
   "source": [
    "### Entropy and Encoding: Communication Channel\n",
    "\n",
    "- Now let's see how entropy is related to encoding theory\n",
    "- **Communication channel** can be characterized as:\n",
    "    - **[Source]** generates messages.\n",
    "    - **[Encoder]** converts the message to a **signal** for transmission.\n",
    "    - **[Channel]** is the path along which signals are transmitted, possibly under the influence of **noise**.\n",
    "    - **[Decoder[** attempts to reconstruct the original message from the transmitted signal.\n",
    "    - **[Destination]** is the intended recipient.\n",
    "<center>\n",
    "<div class=\"image\"   style=\"width:700px\">\n",
    "    <img src=\"images/communication.jpg\">\n",
    "</div>\n",
    "</center>    "
   ]
  },
  {
   "cell_type": "markdown",
   "metadata": {
    "slideshow": {
     "slide_type": "slide"
    }
   },
   "source": [
    "### Entropy and Encoding: Encoding\n",
    "\n",
    "- Suppose we draw messages from a distribution $p$.\n",
    "    - Certain messages may be more likely than others.\n",
    "    - For example, the letter **e** is most frequent in English\n",
    "\n",
    "- An **efficient** encoding minimizes the average code length,\n",
    "    - assign *short* codewords to common messages\n",
    "    - and *longer* codewords to rare messages\n",
    "    \n",
    "- Example: **Morse Code**\n",
    "<center>\n",
    "<div class=\"image\"   style=\"width:450px\">\n",
    "    <img src=\"images/morse-code.jpg\">\n",
    "</div>\n",
    "</center>"
   ]
  },
  {
   "cell_type": "markdown",
   "metadata": {
    "slideshow": {
     "slide_type": "slide"
    }
   },
   "source": [
    "### Entropy and Encoding: Source Coding Theorem\n",
    "\n",
    "- Claude Shannon proved that for discrete noiseless channels:\n",
    "\n",
    "> It is impossible to encode messages drawn from a distribution $p$ with fewer than $H[p]$ bits, on average.\n",
    "\n",
    "- Here, *bits* refers to *binary digits*, i.e. encoding messages in binary.\n",
    "\n",
    "> $H[p]$ measures the optimal code length, in bits, for messages drawn from $p$"
   ]
  },
  {
   "cell_type": "markdown",
   "metadata": {
    "slideshow": {
     "slide_type": "slide"
    }
   },
   "source": [
    "### Cross Entropy & Relative Entropy\n",
    "\n",
    "- Consider different distributions $p$ and $q$\n",
    "    - What if we use a code optimal for $q$ to encode messages from $p$?\n",
    "\n",
    "- For example, suppose our encoding scheme is optimal for German text.\n",
    "    - What if we send English messages instead?\n",
    "    - Certainly, there will be some waste due to different letter frequencies, umlauts, ..."
   ]
  },
  {
   "cell_type": "markdown",
   "metadata": {
    "slideshow": {
     "slide_type": "slide"
    }
   },
   "source": [
    "### Cross Entropy & Relative Entropy\n",
    "\n",
    "- **Cross entropy** measures the average number of bits needed to encode messages drawn from $p$ when we use a code optimal for $q$:\n",
    "    $$\n",
    "    H(p,q) = -\\sum_{x \\in \\X} p(x) \\log q(x)\n",
    "    = - E_p[\\log q(x)]\n",
    "    $$\n",
    "\n",
    "- Intuitively, $H(p,q) \\geq H(p)$.  "
   ]
  },
  {
   "cell_type": "markdown",
   "metadata": {
    "slideshow": {
     "slide_type": "fragment"
    }
   },
   "source": [
    "- **Relative entropy** is the difference $H(p,q) - H(p)$.\n",
    "\n",
    "- Relative entropy, aka **Kullback-Leibler divergence**, of $q$ from $p$ is\n",
    "    $$\n",
    "    \\begin{align}\n",
    "    D_{KL}(p \\| q)\n",
    "    &= H(p,q) - H(p) \\\\\n",
    "    &= \\sum_{x \\in X} p(x) \\log \\frac{p(x)}{q(x)} \\\\\n",
    "    \\end{align}\n",
    "    $$\n",
    "\n",
    "> Measures the number of *extra* bits needed to encode messages from $p$ if we use a code optimal for $q$."
   ]
  },
  {
   "cell_type": "markdown",
   "metadata": {
    "slideshow": {
     "slide_type": "slide"
    }
   },
   "source": [
    "## K-Means Clustering "
   ]
  },
  {
   "cell_type": "markdown",
   "metadata": {
    "slideshow": {
     "slide_type": "slide"
    }
   },
   "source": [
    "### K-Means Clustering: The standard view\n",
    "\n",
    "The **K-Means** algorithm takes a simple, non-probabilistic approach.\n",
    "- First, pick random cluster centers $\\mu_k$.\n",
    "\n",
    "Then, repeat until convergence:\n",
    "\n",
    "<div style=\"margin:10px; padding: 10px; border: 2px solid black\">\n",
    "**E-Step:** Assign $x_j$ to the nearest cluster center $\\mu_k$,\n",
    "$$\n",
    "z_j = \\arg\\min_k || x_j - \\mu_k ||^2\n",
    "$$\n",
    "\n",
    "**M-Step:** Re-estimate cluster centers by averaging over assignments:\n",
    "$$\n",
    "\\mu_k = \\frac{1}{ \\# \\{ j \\mid z_j =k \\}} \\sum_{j=1}^N x_j \\mathbb{I}(z_j = k)\n",
    "$$\n",
    "</div>"
   ]
  },
  {
   "cell_type": "markdown",
   "metadata": {
    "slideshow": {
     "slide_type": "slide"
    }
   },
   "source": [
    "### K-Means Clustering: Initialization\n",
    "\n",
    "> Images taken from Bishop, **[PRML]**\n",
    "\n",
    "<img src=\"images/kmeans-1.png\">"
   ]
  },
  {
   "cell_type": "markdown",
   "metadata": {
    "slideshow": {
     "slide_type": "slide"
    }
   },
   "source": [
    "### K-Means Clustering: E-Step\n",
    "\n",
    "<img src=\"images/kmeans-2.png\">"
   ]
  },
  {
   "cell_type": "markdown",
   "metadata": {
    "slideshow": {
     "slide_type": "slide"
    }
   },
   "source": [
    "### K-Means Clustering: M-Step\n",
    "\n",
    "<img src=\"images/kmeans-3.png\">"
   ]
  },
  {
   "cell_type": "markdown",
   "metadata": {
    "slideshow": {
     "slide_type": "slide"
    }
   },
   "source": [
    "### K-Means Clustering: E-Step\n",
    "\n",
    "<img src=\"images/kmeans-4.png\">"
   ]
  },
  {
   "cell_type": "markdown",
   "metadata": {
    "slideshow": {
     "slide_type": "slide"
    }
   },
   "source": [
    "### K-Means Clustering: M-Step\n",
    "\n",
    "<img src=\"images/kmeans-5.png\">"
   ]
  },
  {
   "cell_type": "markdown",
   "metadata": {
    "slideshow": {
     "slide_type": "slide"
    }
   },
   "source": [
    "### K-Means Clustering: E-Step\n",
    "\n",
    "<img src=\"images/kmeans-6.png\">"
   ]
  },
  {
   "cell_type": "markdown",
   "metadata": {
    "slideshow": {
     "slide_type": "slide"
    }
   },
   "source": [
    "### K-Means Clustering: M-Step\n",
    "\n",
    "<img src=\"images/kmeans-7.png\">"
   ]
  },
  {
   "cell_type": "markdown",
   "metadata": {
    "slideshow": {
     "slide_type": "slide"
    }
   },
   "source": [
    "### K-Means Clustering: E-Step\n",
    "\n",
    "<img src=\"images/kmeans-8.png\">"
   ]
  },
  {
   "cell_type": "markdown",
   "metadata": {
    "slideshow": {
     "slide_type": "slide"
    }
   },
   "source": [
    "### K-Means Clustering: M-Step\n",
    "\n",
    "<img src=\"images/kmeans-9.png\">"
   ]
  },
  {
   "cell_type": "markdown",
   "metadata": {
    "slideshow": {
     "slide_type": "slide"
    }
   },
   "source": [
    "### K-Means Clustering:  The \"Optimization\" View\n",
    "\n",
    "*Exercise:* Show that the K-Means algorithm finds a local minimum of the **distortion measure**, given by\n",
    "$$\n",
    "J(\\mu_1, \\ldots, \\mu_k; z_1, \\ldots, z_N) = \\sum_{j=1}^N \\sum_{k=1}^K \\mathbb{I}(z_j=k) || x_j - \\mu_k ||^2\n",
    "$$"
   ]
  },
  {
   "cell_type": "markdown",
   "metadata": {
    "slideshow": {
     "slide_type": "slide"
    }
   },
   "source": [
    "## Exercise: Convince yourself that K-Means = Alternating Minimization\n",
    "\n",
    "<div style=\"margin:10px; padding: 10px; border: 2px solid black\">\n",
    "**E-Step:**\n",
    "$$\n",
    "(z_1, \\ldots, z_N) = \\arg\\min_{(z_1', \\ldots, z_N')} J(\\mu_1, \\ldots, \\mu_K; z_1', \\ldots, z_N')\n",
    "$$\n",
    "\n",
    "**M-Step:**\n",
    "$$\n",
    "(\\mu_1, \\ldots, \\mu_K) = \\arg\\min_{(\\mu_1', \\ldots, \\mu_K')} J(\\mu_1', \\ldots, \\mu_K'; z_1, \\ldots, z_N)\n",
    "$$\n",
    "\n",
    "</div>\n",
    "\n",
    "where\n",
    "$$\n",
    "J(\\mu_1, \\ldots, \\mu_k; z_1, \\ldots, z_N) = \\sum_{j=1}^N \\sum_{k=1}^K \\mathbb{I}(z_j=k) || x_j - \\mu_k ||^2\n",
    "$$\n"
   ]
  },
  {
   "cell_type": "markdown",
   "metadata": {},
   "source": [
    "## Let us try to implement K-means ourselves\n",
    "\n",
    "First we'll load some data"
   ]
  },
  {
   "cell_type": "code",
   "execution_count": 1,
   "metadata": {
    "slideshow": {
     "slide_type": "slide"
    }
   },
   "outputs": [
    {
     "name": "stdout",
     "output_type": "stream",
     "text": [
      "Input Data and Shape\n",
      "(3000, 2)\n"
     ]
    },
    {
     "data": {
      "text/html": [
       "<div>\n",
       "<style scoped>\n",
       "    .dataframe tbody tr th:only-of-type {\n",
       "        vertical-align: middle;\n",
       "    }\n",
       "\n",
       "    .dataframe tbody tr th {\n",
       "        vertical-align: top;\n",
       "    }\n",
       "\n",
       "    .dataframe thead th {\n",
       "        text-align: right;\n",
       "    }\n",
       "</style>\n",
       "<table border=\"1\" class=\"dataframe\">\n",
       "  <thead>\n",
       "    <tr style=\"text-align: right;\">\n",
       "      <th></th>\n",
       "      <th>V1</th>\n",
       "      <th>V2</th>\n",
       "    </tr>\n",
       "  </thead>\n",
       "  <tbody>\n",
       "    <tr>\n",
       "      <th>0</th>\n",
       "      <td>2.072345</td>\n",
       "      <td>-3.241693</td>\n",
       "    </tr>\n",
       "    <tr>\n",
       "      <th>1</th>\n",
       "      <td>17.936710</td>\n",
       "      <td>15.784810</td>\n",
       "    </tr>\n",
       "    <tr>\n",
       "      <th>2</th>\n",
       "      <td>1.083576</td>\n",
       "      <td>7.319176</td>\n",
       "    </tr>\n",
       "    <tr>\n",
       "      <th>3</th>\n",
       "      <td>11.120670</td>\n",
       "      <td>14.406780</td>\n",
       "    </tr>\n",
       "    <tr>\n",
       "      <th>4</th>\n",
       "      <td>23.711550</td>\n",
       "      <td>2.557729</td>\n",
       "    </tr>\n",
       "  </tbody>\n",
       "</table>\n",
       "</div>"
      ],
      "text/plain": [
       "          V1         V2\n",
       "0   2.072345  -3.241693\n",
       "1  17.936710  15.784810\n",
       "2   1.083576   7.319176\n",
       "3  11.120670  14.406780\n",
       "4  23.711550   2.557729"
      ]
     },
     "execution_count": 1,
     "metadata": {},
     "output_type": "execute_result"
    }
   ],
   "source": [
    "# Setting up ---- dont worry about this part\n",
    "from copy import deepcopy\n",
    "import numpy as np\n",
    "import pandas as pd\n",
    "from matplotlib import pyplot as plt\n",
    "plt.rcParams['figure.figsize'] = (16, 9)\n",
    "plt.style.use('ggplot')\n",
    "\n",
    "# Importing the dataset  \n",
    "data = pd.read_csv('xclara.csv')\n",
    "print(\"Input Data and Shape\")\n",
    "print(data.shape)\n",
    "data.head()"
   ]
  },
  {
   "cell_type": "markdown",
   "metadata": {},
   "source": [
    "## What does this data look like?"
   ]
  },
  {
   "cell_type": "code",
   "execution_count": 2,
   "metadata": {},
   "outputs": [
    {
     "data": {
      "text/plain": [
       "<matplotlib.collections.PathCollection at 0x7f11fd5c53c8>"
      ]
     },
     "execution_count": 2,
     "metadata": {},
     "output_type": "execute_result"
    },
    {
     "data": {
      "image/png": "[encoded data removed]",
      "text/plain": [
       "<Figure size 432x288 with 1 Axes>"
      ]
     },
     "metadata": {},
     "output_type": "display_data"
    }
   ],
   "source": [
    "# Getting the values and plotting it ----- dont worry about this part\n",
    "f1 = data['V1'].values\n",
    "f2 = data['V2'].values\n",
    "X = np.array(list(zip(f1, f2)))\n",
    "plt.scatter(f1, f2, c='black', s=7)"
   ]
  },
  {
   "cell_type": "markdown",
   "metadata": {},
   "source": [
    "## First task: initialize the centroids\n",
    "\n",
    "Pick some random points for the initial three centroids `C = [C[0,:], C[1,:], C[2,:]]`"
   ]
  },
  {
   "cell_type": "code",
   "execution_count": null,
   "metadata": {},
   "outputs": [],
   "source": [
    "# Euclidean Distance Caculator\n",
    "def dist(a, b, ax=1):\n",
    "    return np.linalg.norm(a - b, axis=ax)\n",
    "\n",
    "# Number of clusters\n",
    "k = 3\n",
    "# Set X coordinates of random centroids and Y coordinates of random centroids\n",
    "### TODO A: Implement this part to randomly initialize centroids ###\n",
    "C_x = None\n",
    "C_y = None\n",
    "C = np.array(list(zip(C_x, C_y)), dtype=np.float32)\n",
    "print(\"Initial Centroids\")\n",
    "print(C)\n",
    "\n",
    "# Plotting along with the Centroids\n",
    "plt.scatter(f1, f2, c='#050505', s=7)\n",
    "plt.scatter(C_x, C_y, marker='*', s=200, c='g')"
   ]
  },
  {
   "cell_type": "markdown",
   "metadata": {},
   "source": [
    "## Now implement the K-Means algorithm\n",
    "\n",
    "You need to do two steps:\n",
    "- (a) First implement the cluster assignments\n",
    "- (b) "
   ]
  },
  {
   "cell_type": "code",
   "execution_count": null,
   "metadata": {},
   "outputs": [],
   "source": [
    "# To store the value of centroids when it updates\n",
    "C_old = np.zeros(C.shape)\n",
    "# Cluster Lables(0, 1, 2)\n",
    "clusters = np.zeros(len(X))\n",
    "# Error func. - Distance between new centroids and old centroids\n",
    "error = dist(C, C_old, None)\n",
    "# Loop will run till the error becomes zero\n",
    "while error != 0:\n",
    "    # Assigning each value to its closest cluster\n",
    "    for i in range(len(X)):\n",
    "        ### TODO B: Implement the clustering step or M-step ###\n",
    "        clusters[i] = # this variable should be the rows of X for cluster i\n",
    "    # Storing the old centroid values\n",
    "    C_old = deepcopy(C)\n",
    "    # Finding the new centroids by taking the average value\n",
    "    for i in range(k):\n",
    "        ### TODO C: Implement the centroid computation step or E-step ###\n",
    "    error = dist(C, C_old, None)\n",
    "\n",
    "colors = ['r', 'g', 'b', 'y', 'c', 'm']\n",
    "fig, ax = plt.subplots()\n",
    "for i in range(k):\n",
    "        points = np.array([X[j] for j in range(len(X)) if clusters[j] == i])\n",
    "        ax.scatter(points[:, 0], points[:, 1], s=7, c=colors[i])\n",
    "ax.scatter(C[:, 0], C[:, 1], marker='*', s=200, c='#050505')"
   ]
  },
  {
   "cell_type": "code",
   "execution_count": 6,
   "metadata": {},
   "outputs": [],
   "source": [
    "## Solutions (please try out by yourself first):\n",
    "\n",
    "#### TODO A:\n",
    "## C_x = np.random.randint(0, np.max(X)-20, size=k)\n",
    "## C_y = np.random.randint(0, np.max(X)-20, size=k)\n",
    "\n",
    "#### TODO B:\n",
    "## distances = dist(X[i], C)\n",
    "## cluster = np.argmin(distances)\n",
    "## clusters[i] = cluster\n",
    "\n",
    "#### TODO C:\n",
    "## points = [X[j] for j in range(len(X)) if clusters[j] == i]\n",
    "## C[i] = np.mean(points, axis=0)"
   ]
  },
  {
   "cell_type": "markdown",
   "metadata": {},
   "source": [
    "## CHALLENGE: Non-optimal K-means Solution\n",
    "\n",
    "Can you augment the dataset given, and find an initialization of the K-Means algorithm, such that the final solution is *not* the best one?\n",
    "\n",
    "It's not as easy as you think!\n"
   ]
  },
  {
   "cell_type": "code",
   "execution_count": 8,
   "metadata": {},
   "outputs": [
    {
     "name": "stdout",
     "output_type": "stream",
     "text": [
      "Initial Centroids\n",
      "[[ 2.072345 -3.241693]\n",
      " [63.       43.      ]\n",
      " [62.       54.      ]]\n"
     ]
    },
    {
     "data": {
      "text/plain": [
       "<matplotlib.collections.PathCollection at 0x7f11fd4660f0>"
      ]
     },
     "execution_count": 8,
     "metadata": {},
     "output_type": "execute_result"
    },
    {
     "data": {
      "image/png": "[encoded data removed]",
      "text/plain": [
       "<Figure size 432x288 with 1 Axes>"
      ]
     },
     "metadata": {},
     "output_type": "display_data"
    }
   ],
   "source": [
    "# Euclidean Distance Caculator\n",
    "def dist(a, b, ax=1):\n",
    "    return np.linalg.norm(a - b, axis=ax)\n",
    "\n",
    "# Number of clusters\n",
    "k = 3\n",
    "# Set X coordinates of random centroids and Y coordinates of random centroids\n",
    "### Implement this part to randomly initialize centroids ###\n",
    "C_x = np.random.randint(0, np.max(X)-20, size=k)\n",
    "C_y = np.random.randint(0, np.max(X)-20, size=k)\n",
    "\n",
    "C = np.array(list(zip(C_x, C_y)), dtype=np.float32)\n",
    "C[0] = X[0]\n",
    "\n",
    "print(\"Initial Centroids\")\n",
    "print(C)\n",
    "\n",
    "# Plotting along with the Centroids\n",
    "plt.scatter(f1, f2, c='#050505', s=7)\n",
    "plt.scatter(C_x, C_y, marker='*', s=200, c='g')"
   ]
  },
  {
   "cell_type": "code",
   "execution_count": null,
   "metadata": {},
   "outputs": [],
   "source": []
  },
  {
   "cell_type": "code",
   "execution_count": 9,
   "metadata": {},
   "outputs": [
    {
     "data": {
      "text/plain": [
       "<matplotlib.collections.PathCollection at 0x7f11fd6235f8>"
      ]
     },
     "execution_count": 9,
     "metadata": {},
     "output_type": "execute_result"
    },
    {
     "data": {
      "image/png": "[encoded data removed]",
      "text/plain": [
       "<Figure size 432x288 with 1 Axes>"
      ]
     },
     "metadata": {},
     "output_type": "display_data"
    }
   ],
   "source": [
    "# To store the value of centroids when it updates\n",
    "C_old = np.zeros(C.shape)\n",
    "# Cluster Lables(0, 1, 2)\n",
    "clusters = np.zeros(len(X))\n",
    "# Error func. - Distance between new centroids and old centroids\n",
    "error = dist(C, C_old, None)\n",
    "# Loop will run till the error becomes zero\n",
    "while error != 0:\n",
    "    # Assigning each value to its closest cluster\n",
    "    for i in range(len(X)):\n",
    "        distances = dist(X[i], C)\n",
    "        cluster = np.argmin(distances)\n",
    "        clusters[i] = cluster\n",
    "        ### Implement the clustering step or M-step ###\n",
    "    # Storing the old centroid values\n",
    "    C_old = deepcopy(C)\n",
    "    # Finding the new centroids by taking the average value\n",
    "    for i in range(k):\n",
    "        points = [X[j] for j in range(len(X)) if clusters[j] == i]\n",
    "        C[i] = np.mean(points, axis=0)\n",
    "        ### Implement the centroid computation step or E-step ###\n",
    "    error = dist(C, C_old, None)\n",
    "\n",
    "colors = ['r', 'g', 'b', 'y', 'c', 'm']\n",
    "fig, ax = plt.subplots()\n",
    "for i in range(k):\n",
    "        points = np.array([X[j] for j in range(len(X)) if clusters[j] == i])\n",
    "        ax.scatter(points[:, 0], points[:, 1], s=7, c=colors[i])\n",
    "ax.scatter(C[:, 0], C[:, 1], marker='*', s=200, c='#050505')"
   ]
  },
  {
   "cell_type": "code",
   "execution_count": null,
   "metadata": {},
   "outputs": [],
   "source": []
  }
 ],
 "metadata": {
  "kernelspec": {
   "display_name": "Python 3",
   "language": "python",
   "name": "python3"
  },
  "language_info": {
   "codemirror_mode": {
    "name": "ipython",
    "version": 3
   },
   "file_extension": ".py",
   "mimetype": "text/x-python",
   "name": "python",
   "nbconvert_exporter": "python",
   "pygments_lexer": "ipython3",
   "version": "3.5.2"
  }
 },
 "nbformat": 4,
 "nbformat_minor": 2
}
